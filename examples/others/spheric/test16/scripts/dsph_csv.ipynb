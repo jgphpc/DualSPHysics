{
 "cells": [
  {
   "cell_type": "markdown",
   "metadata": {},
   "source": [
    "### DualSPH / test-16\n",
    "\n",
    "- Reference test case: https://www.spheric-sph.org/tests/test-16\n",
    "- Code changes in branch [spheric_test16](https://github.com/jgphpc/DualSPHysics/blob/spheric_test16/)\n",
    "    - src/source/JSph.cpp:[JSph::LoadCodeParticles](https://github.com/jgphpc/DualSPHysics/blob/spheric_test16/src/source/JSph.cpp#L1260)    \n",
    "\n",
    "#### GenCase\n",
    "\n",
    "- Create the initial inputs files with: `GenCase.sh eff.033_Def eff.033_out/eff.033 -save:+all`\n",
    "- Results:\n",
    "  - [Gencase.out](https://github.com/jgphpc/DualSPHysics/blob/spheric_test16/examples/others/spheric/test16/cubeside_30/data/Gencase.out)\n",
    "  - [30.xml](https://github.com/jgphpc/DualSPHysics/blob/spheric_test16/examples/others/spheric/test16/cubeside_30/30.xml)\n",
    "  - [30.bi4(.gz)](https://github.com/jgphpc/DualSPHysics/blob/spheric_test16/examples/others/spheric/test16/cubeside_30/30.bi4.gz)\n",
    "\n",
    "#### DualSPH\n",
    "\n",
    "- Recompile with the changes from the [spheric_test16](https://github.com/jgphpc/DualSPHysics/blob/spheric_test16/) branch\n",
    "- Launch with: `DualSPHysics5.2CPU_linux64 eff.033/eff.033_out/eff.033 eff.033_out -dirdataout data -svres -sv:csv`\n",
    "- Results:\n",
    "  - [Run.out](https://github.com/jgphpc/DualSPHysics/blob/spheric_test16/examples/others/spheric/test16/cubeside_30/data/Run.out)\n",
    "  - [PartCsv_0000.csv(.gz)](https://github.com/jgphpc/DualSPHysics/blob/spheric_test16/examples/others/spheric/test16/cubeside_30/data/PartCsv_0000.csv.gz), etc...\n",
    "  - *.bi4"
   ]
  },
  {
   "cell_type": "code",
   "execution_count": 20,
   "metadata": {},
   "outputs": [],
   "source": [
    "# python3 -m ipykernel install --user --name=myvenv\n",
    "import math as m\n",
    "import numpy as np"
   ]
  },
  {
   "cell_type": "code",
   "execution_count": 4,
   "metadata": {},
   "outputs": [],
   "source": [
    "# define CONSTANTS\n",
    "p2 = m.pi / 2.  # 1.5707963267948966\n",
    "p3 = m.pi / 3.  # 1.0471975511965976\n",
    "k = 2 * m.pi\n",
    "A = 4.*m.sqrt(2) / (3.*m.sqrt(3))"
   ]
  },
  {
   "cell_type": "code",
   "execution_count": 33,
   "metadata": {},
   "outputs": [],
   "source": [
    "infile = '/tmp/0/sph/PartCsv_0000.csv'\n",
    "data = np.genfromtxt(infile, delimiter=';', skip_header=1)"
   ]
  },
  {
   "cell_type": "code",
   "execution_count": 34,
   "metadata": {},
   "outputs": [
    {
     "data": {
      "text/plain": [
       "array([0.   , 0.033, 0.066, 0.099, 0.132])"
      ]
     },
     "execution_count": 34,
     "metadata": {},
     "output_type": "execute_result"
    }
   ],
   "source": [
    "data[:, 2][0:5]"
   ]
  },
  {
   "cell_type": "code",
   "execution_count": 35,
   "metadata": {},
   "outputs": [],
   "source": [
    "pos_x = data[:, 0]  # numpy.ndarray\n",
    "pos_y = data[:, 1]\n",
    "pos_z = data[:, 2]\n",
    "#\n",
    "vel_x = data[:, 4]\n",
    "vel_y = data[:, 5]\n",
    "vel_z = data[:, 6]"
   ]
  },
  {
   "cell_type": "markdown",
   "metadata": {},
   "source": [
    "- np = $30^3 = 27000$\n",
    "- ( np = $32^3 = 32769$ )"
   ]
  },
  {
   "cell_type": "code",
   "execution_count": 36,
   "metadata": {},
   "outputs": [
    {
     "data": {
      "text/plain": [
       "True"
      ]
     },
     "execution_count": 36,
     "metadata": {},
     "output_type": "execute_result"
    }
   ],
   "source": [
    "# len(vel_x) == 32**3\n",
    "len(vel_x) == 30**3"
   ]
  },
  {
   "cell_type": "markdown",
   "metadata": {},
   "source": [
    "# Average kinetic energy per unit of mass from $(v_x, v_y, v_z)_{t0}$\n",
    "$\\epsilon$ = U0**2 / 2 at t=0"
   ]
  },
  {
   "cell_type": "code",
   "execution_count": 37,
   "metadata": {},
   "outputs": [
    {
     "name": "stdout",
     "output_type": "stream",
     "text": [
      "-1.409248000000, -1.409248000000, -1.409248000000\n",
      "1.4109951, 1.4109951, 1.4109951\n"
     ]
    }
   ],
   "source": [
    "print(f\"{min(vel_x):.12f}, {min(vel_y):.12f}, {min(vel_z):.12f}\" )\n",
    "print(f\"{max(vel_x)}, {max(vel_y)}, {max(vel_z)}\" )"
   ]
  },
  {
   "cell_type": "code",
   "execution_count": 38,
   "metadata": {},
   "outputs": [
    {
     "data": {
      "text/plain": [
       "13324.098369180552"
      ]
     },
     "execution_count": 38,
     "metadata": {},
     "output_type": "execute_result"
    }
   ],
   "source": [
    "# average kinetic energy per unit of mass at t=0 should be U0**2 / 2\n",
    "ss_a = 0.0\n",
    "for ii in range(len(vel_x)):\n",
    "    ss_a += vel_x[ii]*vel_x[ii] + vel_y[ii]*vel_y[ii] + vel_z[ii]*vel_z[ii]\n",
    "\n",
    "ss_a/2"
   ]
  },
  {
   "cell_type": "code",
   "execution_count": 39,
   "metadata": {},
   "outputs": [
    {
     "data": {
      "text/plain": [
       "True"
      ]
     },
     "execution_count": 39,
     "metadata": {},
     "output_type": "execute_result"
    }
   ],
   "source": [
    "# average kinetic energy per unit of mass at t=0 should be U0**2 / 2\n",
    "ss_b = sum(vx**2 + vy**2 + vz**2 for vx, vy, vz in zip(vel_x, vel_y, vel_z))\n",
    "ss_b == ss_a"
   ]
  },
  {
   "cell_type": "markdown",
   "metadata": {},
   "source": [
    "# Average kinetic energy per unit of mass from $(x, y, z)_{t0}$\n",
    "$\\epsilon$ = U0**2 / 2 at t=0"
   ]
  },
  {
   "cell_type": "code",
   "execution_count": 40,
   "metadata": {},
   "outputs": [
    {
     "name": "stdout",
     "output_type": "stream",
     "text": [
      "0.000000000000, 0.000000000000, 0.000000000000\n",
      "0.95700002, 0.95700002, 0.95700002\n"
     ]
    }
   ],
   "source": [
    "print(f\"{min(pos_x):.12f}, {min(pos_y):.12f}, {min(pos_z):.12f}\" )\n",
    "print(f\"{max(pos_x)}, {max(pos_y)}, {max(pos_z)}\" )"
   ]
  },
  {
   "cell_type": "code",
   "execution_count": 41,
   "metadata": {},
   "outputs": [],
   "source": [
    "vel_x_from_pos = []\n",
    "vel_y_from_pos = []\n",
    "vel_z_from_pos = []\n",
    "for ii in range(len(pos_x)):\n",
    "    kx = k * pos_x[ii]\n",
    "    ky = k * pos_y[ii]\n",
    "    kz = k * pos_z[ii]\n",
    "    #\n",
    "    vel_x_from_pos.append(\n",
    "        A * (\n",
    "            m.sin(kx-p3) * m.cos(ky+p3) * m.sin(kz+p2) -\n",
    "            m.cos(kz-p3) * m.sin(kx+p3) * m.sin(ky+p2)\n",
    "        )\n",
    "    )\n",
    "    #\n",
    "    vel_y_from_pos.append(\n",
    "        A * (\n",
    "            m.sin(ky-p3) * m.cos(kz+p3) * m.sin(kx+p2) -\n",
    "            m.cos(kx-p3) * m.sin(ky+p3) * m.sin(kz+p2)\n",
    "        )\n",
    "    )\n",
    "    #\n",
    "    vel_z_from_pos.append(\n",
    "        A * (\n",
    "            m.sin(kz-p3) * m.cos(kx+p3) * m.sin(ky+p2) -\n",
    "            m.cos(ky-p3) * m.sin(kz+p3) * m.sin(kx+p2)\n",
    "        )\n",
    "    )    "
   ]
  },
  {
   "cell_type": "code",
   "execution_count": 42,
   "metadata": {},
   "outputs": [
    {
     "data": {
      "text/plain": [
       "13324.096777900571"
      ]
     },
     "execution_count": 42,
     "metadata": {},
     "output_type": "execute_result"
    }
   ],
   "source": [
    "ss_c = sum(vx**2 + vy**2 + vz**2 for vx, vy, vz in zip(vel_x_from_pos, vel_y_from_pos, vel_z_from_pos))\n",
    "ss_c/2"
   ]
  },
  {
   "cell_type": "code",
   "execution_count": 43,
   "metadata": {},
   "outputs": [
    {
     "data": {
      "text/plain": [
       "True"
      ]
     },
     "execution_count": 43,
     "metadata": {},
     "output_type": "execute_result"
    }
   ],
   "source": [
    "ss_a - ss_c < 0.005"
   ]
  },
  {
   "cell_type": "markdown",
   "metadata": {},
   "source": [
    "# Round off"
   ]
  },
  {
   "cell_type": "code",
   "execution_count": 18,
   "metadata": {},
   "outputs": [
    {
     "data": {
      "text/plain": [
       "array([False, False, False, ..., False, False, False])"
      ]
     },
     "execution_count": 18,
     "metadata": {},
     "output_type": "execute_result"
    }
   ],
   "source": [
    "vel_x_from_pos == vel_x"
   ]
  },
  {
   "cell_type": "code",
   "execution_count": 24,
   "metadata": {},
   "outputs": [
    {
     "name": "stdout",
     "output_type": "stream",
     "text": [
      "[-0.9428090415820636, -1.0907010407190776, -1.1918693799691533]\n",
      "[-0.94280905 -1.0907011  -1.1918694 ]\n"
     ]
    },
    {
     "data": {
      "text/plain": [
       "[-0.942809, -1.090701, -1.191869]"
      ]
     },
     "execution_count": 24,
     "metadata": {},
     "output_type": "execute_result"
    }
   ],
   "source": [
    "print(vel_x_from_pos[0:3])\n",
    "print(vel_x[0:3])\n",
    "#\n",
    "[ round(xx, 6) for xx in vel_x_from_pos[0:3] ]"
   ]
  }
 ],
 "metadata": {
  "kernelspec": {
   "display_name": "Python 3",
   "language": "python",
   "name": "python3"
  },
  "language_info": {
   "codemirror_mode": {
    "name": "ipython",
    "version": 3
   },
   "file_extension": ".py",
   "mimetype": "text/x-python",
   "name": "python",
   "nbconvert_exporter": "python",
   "pygments_lexer": "ipython3",
   "version": "3.12.2"
  }
 },
 "nbformat": 4,
 "nbformat_minor": 2
}
