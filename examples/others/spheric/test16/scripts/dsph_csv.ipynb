{
 "cells": [
  {
   "cell_type": "markdown",
   "metadata": {},
   "source": [
    "#### DSPH-EXA / src/source/JSph.cpp / JSph::LoadCodeParticles\n",
    "\n",
    "```c++\n",
    "/*\n",
    "        double k = 2 * M_PI / L;\n",
    "        T kx = d.x[i] * k;\n",
    "        T ky = d.y[i] * k;\n",
    "        T kz = d.z[i] * k;       \n",
    "        //Initial velocities from setting t=0 in the analytical velocity field\n",
    "        d.vx[i] = A * (sin(kx - M_PI_3) * cos(ky + M_PI_3) * sin(kz + M_PI_2) -\n",
    "                       cos(kz - M_PI_3) * sin(kx + M_PI_3) * sin(ky + M_PI_2));\n",
    "\n",
    "        d.vy[i] = A * (sin(ky - M_PI_3) * cos(kz + M_PI_3) * sin(kx + M_PI_2) -\n",
    "                       cos(kx - M_PI_3) * sin(ky + M_PI_3) * sin(kz + M_PI_2));\n",
    "\n",
    "        d.vz[i] = A * (sin(kz - M_PI_3) * cos(kx + M_PI_3) * sin(ky + M_PI_2) -\n",
    "                       cos(ky - M_PI_3) * sin(kz + M_PI_3) * sin(kx + M_PI_2));\n",
    "*/                       \n",
    "\n",
    "    float k_0 = 1.f;\n",
    "    /* OR double k = 2 * M_PI / L; */\n",
    "    velrho[p].x = A * (\n",
    "      sin(k_0*pos[p].x-pi_3) * cos(k_0*pos[p].y+pi_3) * sin(k_0*pos[p].z+pi_2) -\n",
    "      cos(k_0*pos[p].z-pi_3) * sin(k_0*pos[p].x+pi_3) * sin(k_0*pos[p].y+pi_2)\n",
    "      );\n",
    "    velrho[p].y = A * (\n",
    "      sin(k_0*pos[p].y-pi_3) * cos(k_0*pos[p].z+pi_3) * sin(k_0*pos[p].x+pi_2) -\n",
    "      cos(k_0*pos[p].x-pi_3) * sin(k_0*pos[p].y+pi_3) * sin(k_0*pos[p].z+pi_2)\n",
    "      );\n",
    "    velrho[p].z = A * (\n",
    "      sin(k_0*pos[p].z-pi_3) * cos(k_0*pos[p].x+pi_3) * sin(k_0*pos[p].y+pi_2) -\n",
    "      cos(k_0*pos[p].y-pi_3) * sin(k_0*pos[p].z+pi_3) * sin(k_0*pos[p].x+pi_2)\n",
    "      );\n",
    "    velrho[p].w = RhopZero;\n",
    "```                       "
   ]
  },
  {
   "cell_type": "code",
   "execution_count": 1,
   "metadata": {},
   "outputs": [],
   "source": [
    "# python3 -m ipykernel install --user --name=myvenv\n",
    "import math as m\n",
    "import numpy as np"
   ]
  },
  {
   "cell_type": "code",
   "execution_count": 2,
   "metadata": {},
   "outputs": [],
   "source": [
    "# define CONSTANTS\n",
    "p2 = m.pi / 2.  # 1.5707963267948966\n",
    "p3 = m.pi / 3.  # 1.0471975511965976\n",
    "k = 2 * m.pi\n",
    "A = 4.*m.sqrt(2) / (3.*m.sqrt(3))"
   ]
  },
  {
   "cell_type": "code",
   "execution_count": 15,
   "metadata": {},
   "outputs": [],
   "source": [
    "# infile = '/tmp/0/16/dsph/PartCsv_0000.csv.ori'\n",
    "infile = '/tmp/0/16/dsph/cubeside_30/PartCsv_0000.csv'\n",
    "data = np.genfromtxt(infile, delimiter=';', skip_header=1)"
   ]
  },
  {
   "cell_type": "code",
   "execution_count": 16,
   "metadata": {},
   "outputs": [
    {
     "data": {
      "text/plain": [
       "array([0.   , 0.033, 0.066, 0.099, 0.132])"
      ]
     },
     "execution_count": 16,
     "metadata": {},
     "output_type": "execute_result"
    }
   ],
   "source": [
    "data[:, 2][0:5]"
   ]
  },
  {
   "cell_type": "code",
   "execution_count": 17,
   "metadata": {},
   "outputs": [],
   "source": [
    "pos_x = data[:, 0]  # numpy.ndarray\n",
    "pos_y = data[:, 1]\n",
    "pos_z = data[:, 2]\n",
    "#\n",
    "vel_x = data[:, 4]\n",
    "vel_y = data[:, 5]\n",
    "vel_z = data[:, 6]"
   ]
  },
  {
   "cell_type": "markdown",
   "metadata": {},
   "source": [
    "np = $32^3 = 32769$\n",
    "\n",
    "( np = $30^3 = 27000$ )"
   ]
  },
  {
   "cell_type": "code",
   "execution_count": 18,
   "metadata": {},
   "outputs": [
    {
     "data": {
      "text/plain": [
       "True"
      ]
     },
     "execution_count": 18,
     "metadata": {},
     "output_type": "execute_result"
    }
   ],
   "source": [
    "# len(vel_x) == 32**3\n",
    "len(vel_x) == 30**3"
   ]
  },
  {
   "cell_type": "code",
   "execution_count": 19,
   "metadata": {},
   "outputs": [
    {
     "name": "stdout",
     "output_type": "stream",
     "text": [
      "0.000000000000, 0.000000000000, 0.000000000000\n",
      "0.95700002, 0.95700002, 0.95700002\n"
     ]
    }
   ],
   "source": [
    "print(f\"{min(pos_x):.12f}, {min(pos_y):.12f}, {min(pos_z):.12f}\" )\n",
    "print(f\"{max(pos_x)}, {max(pos_y)}, {max(pos_z)}\" )"
   ]
  },
  {
   "cell_type": "code",
   "execution_count": 20,
   "metadata": {},
   "outputs": [
    {
     "data": {
      "text/plain": [
       "26648.196738361105"
      ]
     },
     "execution_count": 20,
     "metadata": {},
     "output_type": "execute_result"
    }
   ],
   "source": [
    "# average kinetic energy per unit of mass at t=0 should be U0**2 / 2\n",
    "ss_a = 0.0\n",
    "for ii in range(len(vel_x)):\n",
    "    ss_a += vel_x[ii]*vel_x[ii] + vel_y[ii]*vel_y[ii] + vel_z[ii]*vel_z[ii]\n",
    "\n",
    "ss_a"
   ]
  },
  {
   "cell_type": "code",
   "execution_count": 21,
   "metadata": {},
   "outputs": [
    {
     "data": {
      "text/plain": [
       "True"
      ]
     },
     "execution_count": 21,
     "metadata": {},
     "output_type": "execute_result"
    }
   ],
   "source": [
    "# average kinetic energy per unit of mass at t=0 should be U0**2 / 2\n",
    "ss_b = sum(vx**2 + vy**2 + vz**2 for vx, vy, vz in zip(vel_x, vel_y, vel_z))\n",
    "ss_b == ss_a"
   ]
  },
  {
   "cell_type": "markdown",
   "metadata": {},
   "source": [
    "${(v_x, v_y, v_z)_{t0}} = f(x,y,z)$"
   ]
  },
  {
   "cell_type": "code",
   "execution_count": 22,
   "metadata": {},
   "outputs": [],
   "source": [
    "vel_x_from_pos = []\n",
    "vel_y_from_pos = []\n",
    "vel_z_from_pos = []\n",
    "for ii in range(len(pos_x)):\n",
    "    kx = k * pos_x[ii]\n",
    "    ky = k * pos_y[ii]\n",
    "    kz = k * pos_z[ii]\n",
    "    #\n",
    "    vel_x_from_pos.append(\n",
    "        A * (\n",
    "            m.sin(kx-p3) * m.cos(ky+p3) * m.sin(kz+p2) -\n",
    "            m.cos(kz-p3) * m.sin(kx+p3) * m.sin(ky+p2)\n",
    "        )\n",
    "    )\n",
    "    #\n",
    "    vel_y_from_pos.append(\n",
    "        A * (\n",
    "            m.sin(ky-p3) * m.cos(kz+p3) * m.sin(kx+p2) -\n",
    "            m.cos(kx-p3) * m.sin(ky+p3) * m.sin(kz+p2)\n",
    "        )\n",
    "    )\n",
    "    #\n",
    "    vel_z_from_pos.append(\n",
    "        A * (\n",
    "            m.sin(kz-p3) * m.cos(kx+p3) * m.sin(ky+p2) -\n",
    "            m.cos(ky-p3) * m.sin(kz+p3) * m.sin(kx+p2)\n",
    "        )\n",
    "    )    "
   ]
  },
  {
   "cell_type": "code",
   "execution_count": 23,
   "metadata": {},
   "outputs": [
    {
     "data": {
      "text/plain": [
       "array([False, False, False, ..., False, False, False])"
      ]
     },
     "execution_count": 23,
     "metadata": {},
     "output_type": "execute_result"
    }
   ],
   "source": [
    "vel_x_from_pos == vel_x"
   ]
  },
  {
   "cell_type": "code",
   "execution_count": 24,
   "metadata": {},
   "outputs": [
    {
     "name": "stdout",
     "output_type": "stream",
     "text": [
      "[-0.9428090415820636, -1.0907010407190776, -1.1918693799691533]\n",
      "[-0.94280905 -1.0907011  -1.1918694 ]\n"
     ]
    },
    {
     "data": {
      "text/plain": [
       "[-0.942809, -1.090701, -1.191869]"
      ]
     },
     "execution_count": 24,
     "metadata": {},
     "output_type": "execute_result"
    }
   ],
   "source": [
    "print(vel_x_from_pos[0:3])\n",
    "print(vel_x[0:3])\n",
    "#\n",
    "[ round(xx, 6) for xx in vel_x_from_pos[0:3] ]"
   ]
  },
  {
   "cell_type": "markdown",
   "metadata": {},
   "source": [
    "# Average kinetic energy per unit of mass\n",
    "$\\epsilon$ = U0**2 / 2 at t=0"
   ]
  },
  {
   "cell_type": "code",
   "execution_count": 25,
   "metadata": {},
   "outputs": [
    {
     "data": {
      "text/plain": [
       "26648.193555801143"
      ]
     },
     "execution_count": 25,
     "metadata": {},
     "output_type": "execute_result"
    }
   ],
   "source": [
    "ss_c = sum(vx**2 + vy**2 + vz**2 for vx, vy, vz in zip(vel_x_from_pos, vel_y_from_pos, vel_z_from_pos))\n",
    "ss_c"
   ]
  }
 ],
 "metadata": {
  "kernelspec": {
   "display_name": "myvenv",
   "language": "python",
   "name": "myvenv"
  },
  "language_info": {
   "codemirror_mode": {
    "name": "ipython",
    "version": 3
   },
   "file_extension": ".py",
   "mimetype": "text/x-python",
   "name": "python",
   "nbconvert_exporter": "python",
   "pygments_lexer": "ipython3",
   "version": "3.12.2"
  }
 },
 "nbformat": 4,
 "nbformat_minor": 2
}
