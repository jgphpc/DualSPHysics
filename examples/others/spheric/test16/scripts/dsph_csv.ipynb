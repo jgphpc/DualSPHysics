{
 "cells": [
  {
   "cell_type": "markdown",
   "metadata": {},
   "source": [
    "#### DualSPH\n",
    "\n",
    "- Reference test case: https://www.spheric-sph.org/tests/test-16\n",
    "- Code changes in branch [spheric_test16](https://github.com/jgphpc/DualSPHysics/blob/spheric_test16/)\n",
    "    - src/source/JSph.cpp:[JSph::LoadCodeParticles](https://github.com/jgphpc/DualSPHysics/blob/spheric_test16/src/source/JSph.cpp#L1260)    \n",
    "\n",
    "### GenCase\n",
    "\n",
    "- Create the initial inputs files with: `GenCase.sh eff.033_Def eff.033_out/eff.033 -save:+all`\n",
    "\n",
    "<span style=\"font-size:0.5em;\">\n",
    "Particle summary:\n",
    "  Fixed....: 0\n",
    "  Moving...: 0\n",
    "  Floating.: 0\n",
    "  Fluid....: 27000  id:(0-26999)   MKs:1 (1)\n",
    "\n",
    "Total particles: 27000 (bound=0 (fx=0 mv=0 ft=0) fluid=27000)\n",
    "Total MK blocks: 1 (bound=0 (fx=0 mv=0 ft=0) fluid=1)\n",
    "\n",
    "*** WARNING: No boundary particles were created in the defined domain.\n",
    "\n",
    "Maximum depth: 0.957 (automatic)\n",
    "Speed of system: 3.06401 (automatic)\n",
    "Speed of sound: max(coefsound*speedsystem,10*sqrt(g*depth))\n",
    "Speed of sound: 61.2802 max(61.2802,30.6401)\n",
    "Speed of sound: 61.2802 (automatic)\n",
    "Coefh:1.200000 (hdp:2.078461)\n",
    "[PreparePoints-End  time:0.067s]\n",
    "\n",
    "[SaveCase3D]\n",
    "eff.033_out/eff.033_MkCells.vtk  (time:0.020s, shapes:6, points:24)\n",
    "eff.033_out/eff.033.bi4  (time:0.096s)\n",
    "eff.033_out/eff.033_All.vtk  (time: 0.102s)\n",
    "eff.033_out/eff.033_Fluid.vtk  (time: 0.102s)\n",
    "eff.033_out/eff.033.xml  (time:0.020s)\n",
    "Save files time: 0.340s\n",
    "\n",
    "Particle limits:\n",
    "  X range: 0 to 0.957 [m]\n",
    "  Y range: 0 to 0.957 [m]\n",
    "  Z range: 0 to 0.957 [m]\n",
    "\n",
    "[SaveCase3D-End  time:0.366s]\n",
    "\n",
    "[WARNINGS]\n",
    "1. No boundary particles were created in the defined domain.\n",
    "\n",
    "Time of execution: 0.556 sec. (4 threads)\n",
    "Finished execution (code=0).\n",
    "\n",
    "</span>\n",
    "\n",
    "\n",
    "Results:\n",
    "  - [30.xml](https://github.com/jgphpc/DualSPHysics/blob/spheric_test16/examples/others/spheric/test16/cubeside_30/30.xml)\n",
    "  - [30.bi4(.gz)](https://github.com/jgphpc/DualSPHysics/blob/spheric_test16/examples/others/spheric/test16/cubeside_30/30.bi4.gz)\n",
    "\n",
    "\n",
    "### DualSPH\n",
    "\n",
    "- Launch with: `DualSPHysics5.2CPU_linux64 eff.033/eff.033_out/eff.033 eff.033_out -dirdataout data -svres -sv:csv`\n",
    "\n",
    "<span style=\"font-size:0.5em;\">\n",
    "DualSPHysics5 v5.2.274 (02-02-2024)\n",
    "\n",
    "Threads by host for parallel execution: 4\n",
    "\n",
    "[Initialising JSphCpuSingle  15-04-2024 12:31:21]\n",
    "\n",
    "ProgramFile=\".../local/games/DualSPHysics5.2CPU_linux64\"\n",
    "\n",
    "ExecutionDir=\"/usr/local/games\"\n",
    "\n",
    "XmlFile=\".../eff.033/eff.033_out/eff.033.xml\"\n",
    "\n",
    "OutputDir=\".../local/games/eff.033_out\"\n",
    "\n",
    "OutputDataDir=\".../games/eff.033_out/data\"\n",
    "\n",
    "XML-App: GenCase v5.0.278c (30-10-2023)\n",
    "\n",
    "XML-Vars (uservars + ctes): MResId=[0]  CaseName=[\"eff.033\"]  Data2D=[0]  Data2DPosy=[0]  H=[0.0685892]  KernelSize=[0.137178]  B=[536467]  Gamma=[7]  Rhop0=[1000]  Dp=[0.033]  Gravity_x=[0]  Gravity_y=[0]  Gravity_z=[-9.81]  MassFluid=[0.035937]  MassBound=[0.035937]\n",
    "\n",
    "XML-Vars (parameters): TimeMax=[1.5]  TimeOut=[0.01]\n",
    "\n",
    "**Basic case configuration is loaded\n",
    "\n",
    "**Special case configuration is loaded\n",
    "\n",
    "Loading initial state of particles...\n",
    "\n",
    "Loaded particles: 27000\n",
    "\n",
    "MapRealPos(border)=(-0.00342946,-0.00342946,-0.00342946)-(0.960429,0.960429,0.960429)\n",
    "\n",
    "MapRealPos(final)=(-0.00342946,-0.00342946,-0.00342946)-(0.960429,0.960429,0.960429)\n",
    "\n",
    "**Initial state of particles is loaded\n",
    "\n",
    "**3D-Simulation parameters:\n",
    "\n",
    "CaseName=\"eff.033\"\n",
    "\n",
    "RunName=\"eff.033\"\n",
    "\n",
    "Symmetry=False\n",
    "\n",
    "SavePosDouble=False\n",
    "\n",
    "SvExtraParts=\"\"\n",
    "\n",
    "SaveFtAce=False\n",
    "\n",
    "SvTimers=True\n",
    "\n",
    "Boundary=\"DBC\"\n",
    "\n",
    "StepAlgorithm=\"Symplectic\"\n",
    "\n",
    "Kernel=\"Wendland\"\n",
    "  Wendland.awen=1294.733\n",
    "  Wendland.bwen=-94383.59\n",
    "\n",
    "Viscosity=\"Artificial\"\n",
    "  Visco=0.01\n",
    "  ViscoBoundFactor=1\n",
    "\n",
    "DensityDiffusion=\"None\"\n",
    "\n",
    "Shifting=\"None\"\n",
    "\n",
    "RigidAlgorithm=\"None\"\n",
    "\n",
    "FloatingCount=0\n",
    "\n",
    "CaseNp=27000\n",
    "\n",
    "CaseNbound=0\n",
    "\n",
    "CaseNfixed=0\n",
    "\n",
    "CaseNmoving=0\n",
    "\n",
    "CaseNfloat=0\n",
    "\n",
    "CaseNfluid=27000\n",
    "\n",
    "PeriodicActive=\"None\"\n",
    "\n",
    "Dp=0.033\n",
    "\n",
    "KernelH=0.068589  (CoefficientH=1.2; H/Dp=2.07846)\n",
    "\n",
    "KernelSize=0.1371784\n",
    "\n",
    "CteB=536466.9\n",
    "\n",
    "Gamma=7\n",
    "\n",
    "RhopZero=1000\n",
    "\n",
    "Cs0=61.28024253378898\n",
    "\n",
    "CFLnumber=0.2\n",
    "\n",
    "DtIni=0.001119271198583049\n",
    "\n",
    "DtMin=5.596356076307446e-05\n",
    "\n",
    "DtAllParticles=False\n",
    "\n",
    "MassFluid=0.035937\n",
    "\n",
    "MassBound=0.035937\n",
    "\n",
    "TimeMax=1.5\n",
    "\n",
    "TimePart=0.01\n",
    "\n",
    "Gravity=(0,0,-9.81)\n",
    "\n",
    "NpMinimum=0\n",
    "\n",
    "RhopOut=True\n",
    "\n",
    "RhopOutMin=700\n",
    "\n",
    "RhopOutMax=1300\n",
    "\n",
    "WrnPartsOut=True\n",
    "\n",
    "CellMode=\"Full\"\n",
    "\n",
    "ScellDiv=1\n",
    "\n",
    "MapCells=(8,8,8)\n",
    "\n",
    "CellDomFixed=False\n",
    "\n",
    "**Requested CPU memory for 27128 particles: 4.0 MB.\n",
    "\n",
    "DomCells=(8,8,8)\n",
    "\n",
    "DomCellCode=\"1+11_10_10\"\n",
    "\n",
    "**CellDiv: Requested cpu memory for 28478 particles: 0.9 MB.\n",
    "\n",
    "**CellDiv: Requested cpu memory for 729 cells (CellMode=Full): 0.0 MB.\n",
    "\n",
    "RunMode=\"Pos-Double - OpenMP(Threads:4)\"\n",
    "\n",
    "Particle summary:\n",
    "  Fixed....: 0\n",
    "  Moving...: 0\n",
    "  Floating.: 0\n",
    "  Fluid....: 27000  id:(0-26999)   MKs:1 (1)\n",
    "\n",
    "Total particles: 27000 (bound=0 (fx=0 mv=0 ft=0) fluid=27000)\n",
    "Total MK blocks: 1 (bound=0 (fx=0 mv=0 ft=0) fluid=1)\n",
    "\n",
    "Allocated memory in CPU: 5201052 (4.96 MB)\n",
    "Part_0000        27000 particles successfully stored\n",
    "\n",
    "[Initialising simulation (y7ulq9y1)  15-04-2024 12:31:42]\n",
    "\n",
    "...\n",
    "\n",
    "</span>\n",
    "\n",
    "Results:\n",
    "- PartCsv_0000.csv, etc...\n",
    "- *.bi4"
   ]
  },
  {
   "cell_type": "code",
   "execution_count": 20,
   "metadata": {},
   "outputs": [],
   "source": [
    "# python3 -m ipykernel install --user --name=myvenv\n",
    "import math as m\n",
    "import numpy as np"
   ]
  },
  {
   "cell_type": "code",
   "execution_count": 4,
   "metadata": {},
   "outputs": [],
   "source": [
    "# define CONSTANTS\n",
    "p2 = m.pi / 2.  # 1.5707963267948966\n",
    "p3 = m.pi / 3.  # 1.0471975511965976\n",
    "k = 2 * m.pi\n",
    "A = 4.*m.sqrt(2) / (3.*m.sqrt(3))"
   ]
  },
  {
   "cell_type": "code",
   "execution_count": 5,
   "metadata": {},
   "outputs": [],
   "source": [
    "infile = '/tmp/0/sph/PartCsv_0000.csv'\n",
    "data = np.genfromtxt(infile, delimiter=';', skip_header=1)"
   ]
  },
  {
   "cell_type": "code",
   "execution_count": 6,
   "metadata": {},
   "outputs": [
    {
     "data": {
      "text/plain": [
       "array([0.   , 0.033, 0.066, 0.099, 0.132])"
      ]
     },
     "execution_count": 6,
     "metadata": {},
     "output_type": "execute_result"
    }
   ],
   "source": [
    "data[:, 2][0:5]"
   ]
  },
  {
   "cell_type": "code",
   "execution_count": 7,
   "metadata": {},
   "outputs": [],
   "source": [
    "pos_x = data[:, 0]  # numpy.ndarray\n",
    "pos_y = data[:, 1]\n",
    "pos_z = data[:, 2]\n",
    "#\n",
    "vel_x = data[:, 4]\n",
    "vel_y = data[:, 5]\n",
    "vel_z = data[:, 6]"
   ]
  },
  {
   "cell_type": "markdown",
   "metadata": {},
   "source": [
    "- np = $30^3 = 27000$\n",
    "- ( np = $32^3 = 32769$ )"
   ]
  },
  {
   "cell_type": "code",
   "execution_count": 8,
   "metadata": {},
   "outputs": [
    {
     "data": {
      "text/plain": [
       "True"
      ]
     },
     "execution_count": 8,
     "metadata": {},
     "output_type": "execute_result"
    }
   ],
   "source": [
    "# len(vel_x) == 32**3\n",
    "len(vel_x) == 30**3"
   ]
  },
  {
   "cell_type": "code",
   "execution_count": 9,
   "metadata": {},
   "outputs": [
    {
     "name": "stdout",
     "output_type": "stream",
     "text": [
      "0.000000000000, 0.000000000000, 0.000000000000\n",
      "0.95700002, 0.95700002, 0.95700002\n"
     ]
    }
   ],
   "source": [
    "print(f\"{min(pos_x):.12f}, {min(pos_y):.12f}, {min(pos_z):.12f}\" )\n",
    "print(f\"{max(pos_x)}, {max(pos_y)}, {max(pos_z)}\" )"
   ]
  },
  {
   "cell_type": "markdown",
   "metadata": {},
   "source": [
    "# Average kinetic energy per unit of mass from $(v_x, v_y, v_z)_{t0}$\n",
    "$\\epsilon$ = U0**2 / 2 at t=0"
   ]
  },
  {
   "cell_type": "code",
   "execution_count": 11,
   "metadata": {},
   "outputs": [
    {
     "data": {
      "text/plain": [
       "13324.098369180552"
      ]
     },
     "execution_count": 11,
     "metadata": {},
     "output_type": "execute_result"
    }
   ],
   "source": [
    "# average kinetic energy per unit of mass at t=0 should be U0**2 / 2\n",
    "ss_a = 0.0\n",
    "for ii in range(len(vel_x)):\n",
    "    ss_a += vel_x[ii]*vel_x[ii] + vel_y[ii]*vel_y[ii] + vel_z[ii]*vel_z[ii]\n",
    "\n",
    "ss_a/2"
   ]
  },
  {
   "cell_type": "code",
   "execution_count": 12,
   "metadata": {},
   "outputs": [
    {
     "data": {
      "text/plain": [
       "True"
      ]
     },
     "execution_count": 12,
     "metadata": {},
     "output_type": "execute_result"
    }
   ],
   "source": [
    "# average kinetic energy per unit of mass at t=0 should be U0**2 / 2\n",
    "ss_b = sum(vx**2 + vy**2 + vz**2 for vx, vy, vz in zip(vel_x, vel_y, vel_z))\n",
    "ss_b == ss_a"
   ]
  },
  {
   "cell_type": "markdown",
   "metadata": {},
   "source": [
    "# Average kinetic energy per unit of mass from $(x, y, z)_{t0}$\n",
    "$\\epsilon$ = U0**2 / 2 at t=0"
   ]
  },
  {
   "cell_type": "code",
   "execution_count": 13,
   "metadata": {},
   "outputs": [],
   "source": [
    "vel_x_from_pos = []\n",
    "vel_y_from_pos = []\n",
    "vel_z_from_pos = []\n",
    "for ii in range(len(pos_x)):\n",
    "    kx = k * pos_x[ii]\n",
    "    ky = k * pos_y[ii]\n",
    "    kz = k * pos_z[ii]\n",
    "    #\n",
    "    vel_x_from_pos.append(\n",
    "        A * (\n",
    "            m.sin(kx-p3) * m.cos(ky+p3) * m.sin(kz+p2) -\n",
    "            m.cos(kz-p3) * m.sin(kx+p3) * m.sin(ky+p2)\n",
    "        )\n",
    "    )\n",
    "    #\n",
    "    vel_y_from_pos.append(\n",
    "        A * (\n",
    "            m.sin(ky-p3) * m.cos(kz+p3) * m.sin(kx+p2) -\n",
    "            m.cos(kx-p3) * m.sin(ky+p3) * m.sin(kz+p2)\n",
    "        )\n",
    "    )\n",
    "    #\n",
    "    vel_z_from_pos.append(\n",
    "        A * (\n",
    "            m.sin(kz-p3) * m.cos(kx+p3) * m.sin(ky+p2) -\n",
    "            m.cos(ky-p3) * m.sin(kz+p3) * m.sin(kx+p2)\n",
    "        )\n",
    "    )    "
   ]
  },
  {
   "cell_type": "code",
   "execution_count": 14,
   "metadata": {},
   "outputs": [
    {
     "data": {
      "text/plain": [
       "13324.096777900571"
      ]
     },
     "execution_count": 14,
     "metadata": {},
     "output_type": "execute_result"
    }
   ],
   "source": [
    "ss_c = sum(vx**2 + vy**2 + vz**2 for vx, vy, vz in zip(vel_x_from_pos, vel_y_from_pos, vel_z_from_pos))\n",
    "ss_c/2"
   ]
  },
  {
   "cell_type": "code",
   "execution_count": 17,
   "metadata": {},
   "outputs": [
    {
     "data": {
      "text/plain": [
       "True"
      ]
     },
     "execution_count": 17,
     "metadata": {},
     "output_type": "execute_result"
    }
   ],
   "source": [
    "ss_a - ss_c < 0.005"
   ]
  },
  {
   "cell_type": "markdown",
   "metadata": {},
   "source": [
    "# Round off"
   ]
  },
  {
   "cell_type": "code",
   "execution_count": 18,
   "metadata": {},
   "outputs": [
    {
     "data": {
      "text/plain": [
       "array([False, False, False, ..., False, False, False])"
      ]
     },
     "execution_count": 18,
     "metadata": {},
     "output_type": "execute_result"
    }
   ],
   "source": [
    "vel_x_from_pos == vel_x"
   ]
  },
  {
   "cell_type": "code",
   "execution_count": 24,
   "metadata": {},
   "outputs": [
    {
     "name": "stdout",
     "output_type": "stream",
     "text": [
      "[-0.9428090415820636, -1.0907010407190776, -1.1918693799691533]\n",
      "[-0.94280905 -1.0907011  -1.1918694 ]\n"
     ]
    },
    {
     "data": {
      "text/plain": [
       "[-0.942809, -1.090701, -1.191869]"
      ]
     },
     "execution_count": 24,
     "metadata": {},
     "output_type": "execute_result"
    }
   ],
   "source": [
    "print(vel_x_from_pos[0:3])\n",
    "print(vel_x[0:3])\n",
    "#\n",
    "[ round(xx, 6) for xx in vel_x_from_pos[0:3] ]"
   ]
  }
 ],
 "metadata": {
  "kernelspec": {
   "display_name": "Python 3",
   "language": "python",
   "name": "python3"
  },
  "language_info": {
   "codemirror_mode": {
    "name": "ipython",
    "version": 3
   },
   "file_extension": ".py",
   "mimetype": "text/x-python",
   "name": "python",
   "nbconvert_exporter": "python",
   "pygments_lexer": "ipython3",
   "version": "3.12.2"
  }
 },
 "nbformat": 4,
 "nbformat_minor": 2
}
