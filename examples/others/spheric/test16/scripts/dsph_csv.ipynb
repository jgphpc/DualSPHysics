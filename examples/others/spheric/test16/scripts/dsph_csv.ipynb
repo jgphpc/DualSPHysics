{
 "cells": [
  {
   "cell_type": "markdown",
   "metadata": {},
   "source": [
    "### DualSPH / test-16\n",
    "\n",
    "- Reference test case: https://www.spheric-sph.org/tests/test-16\n",
    "- Code changes in branch [spheric_test16](https://github.com/jgphpc/DualSPHysics/blob/spheric_test16/)\n",
    "    - src/source/JSph.cpp:[JSph::LoadCodeParticles](https://github.com/jgphpc/DualSPHysics/blob/spheric_test16/src/source/JSph.cpp#L1260)    \n",
    "\n",
    "#### GenCase\n",
    "\n",
    "- Create the initial inputs files with: `GenCase.sh eff.033_Def eff.033_out/eff.033 -save:+all`\n",
    "- Results:\n",
    "  - [Gencase.out](https://github.com/jgphpc/DualSPHysics/blob/spheric_test16/examples/others/spheric/test16/cubeside_30/data/Gencase.out)\n",
    "  - [30.xml](https://github.com/jgphpc/DualSPHysics/blob/spheric_test16/examples/others/spheric/test16/cubeside_30/30.xml)\n",
    "  - [30.bi4(.gz)](https://github.com/jgphpc/DualSPHysics/blob/spheric_test16/examples/others/spheric/test16/cubeside_30/30.bi4.gz)\n",
    "\n",
    "#### DualSPH\n",
    "\n",
    "- Recompile with the changes from the [spheric_test16](https://github.com/jgphpc/DualSPHysics/blob/spheric_test16/) branch\n",
    "- Launch with: `DualSPHysics5.2CPU_linux64 eff.033/eff.033_out/eff.033 eff.033_out -dirdataout data -svres -sv:csv`\n",
    "- Results:\n",
    "  - [Run.out](https://github.com/jgphpc/DualSPHysics/blob/spheric_test16/examples/others/spheric/test16/cubeside_30/data/Run.out)\n",
    "  - [PartCsv_0000.csv(.gz)](https://github.com/jgphpc/DualSPHysics/blob/spheric_test16/examples/others/spheric/test16/cubeside_30/data/PartCsv_0000.csv.gz), etc...\n",
    "  - *.bi4"
   ]
  },
  {
   "cell_type": "code",
   "execution_count": 1,
   "metadata": {},
   "outputs": [],
   "source": [
    "# python3 -m ipykernel install --user --name=myvenv\n",
    "import math as m\n",
    "import numpy as np"
   ]
  },
  {
   "cell_type": "code",
   "execution_count": 11,
   "metadata": {},
   "outputs": [],
   "source": [
    "# define CONSTANTS\n",
    "p2 = m.pi / 2.  # 1.5707963267948966\n",
    "p3 = m.pi / 3.  # 1.0471975511965976\n",
    "k = 2 * m.pi\n",
    "A = 4.*m.sqrt(2) / (3.*m.sqrt(3))\n",
    "dp = 0.033"
   ]
  },
  {
   "cell_type": "code",
   "execution_count": 5,
   "metadata": {},
   "outputs": [],
   "source": [
    "# infile = '/tmp/0/sph/PartCsv_0000.csv'\n",
    "infile = '/Users/jgp/git/DUALSPH/DualSPHysics/DualSPHysics.git/test16/res/raw_2/PartAll_0000.csv'\n",
    "data = np.genfromtxt(infile, delimiter=';', skip_header=4)"
   ]
  },
  {
   "cell_type": "code",
   "execution_count": 6,
   "metadata": {},
   "outputs": [
    {
     "data": {
      "text/plain": [
       "array([0.   , 0.033, 0.066, 0.099, 0.   ])"
      ]
     },
     "execution_count": 6,
     "metadata": {},
     "output_type": "execute_result"
    }
   ],
   "source": [
    "data[:, 2][0:5]"
   ]
  },
  {
   "cell_type": "code",
   "execution_count": 7,
   "metadata": {},
   "outputs": [],
   "source": [
    "pos_x = data[:, 0]  # numpy.ndarray\n",
    "pos_y = data[:, 1]\n",
    "pos_z = data[:, 2]\n",
    "#\n",
    "vel_x = data[:, 4]\n",
    "vel_y = data[:, 5]\n",
    "vel_z = data[:, 6]"
   ]
  },
  {
   "cell_type": "markdown",
   "metadata": {},
   "source": [
    "- np = $30^3 = 27000$\n",
    "- ( np = $32^3 = 32769$ )"
   ]
  },
  {
   "cell_type": "code",
   "execution_count": 8,
   "metadata": {},
   "outputs": [
    {
     "data": {
      "text/plain": [
       "True"
      ]
     },
     "execution_count": 8,
     "metadata": {},
     "output_type": "execute_result"
    }
   ],
   "source": [
    "# len(vel_x) == 32**3\n",
    "len(vel_x) == 30**3"
   ]
  },
  {
   "cell_type": "markdown",
   "metadata": {},
   "source": [
    "# Average kinetic energy per unit of mass from $(v_x, v_y, v_z)_{t0}$\n",
    "$\\epsilon$ = U0**2 / 2 at t=0"
   ]
  },
  {
   "cell_type": "code",
   "execution_count": 9,
   "metadata": {},
   "outputs": [
    {
     "name": "stdout",
     "output_type": "stream",
     "text": [
      "-1.409248000000, -1.409248000000, -1.409248000000\n",
      "1.4109951, 1.4109951, 1.4109951\n"
     ]
    }
   ],
   "source": [
    "print(f\"{min(vel_x):.12f}, {min(vel_y):.12f}, {min(vel_z):.12f}\" )\n",
    "print(f\"{max(vel_x)}, {max(vel_y)}, {max(vel_z)}\" )"
   ]
  },
  {
   "cell_type": "code",
   "execution_count": 10,
   "metadata": {},
   "outputs": [
    {
     "data": {
      "text/plain": [
       "13324.098369180501"
      ]
     },
     "execution_count": 10,
     "metadata": {},
     "output_type": "execute_result"
    }
   ],
   "source": [
    "# average kinetic energy per unit of mass at t=0 should be U0**2 / 2\n",
    "ss_a = 0.0\n",
    "for ii in range(len(vel_x)):\n",
    "    ss_a += vel_x[ii]*vel_x[ii] + vel_y[ii]*vel_y[ii] + vel_z[ii]*vel_z[ii]\n",
    "\n",
    "ss_a/2"
   ]
  },
  {
   "cell_type": "code",
   "execution_count": 14,
   "metadata": {},
   "outputs": [
    {
     "data": {
      "text/plain": [
       "0.47882812309323974"
      ]
     },
     "execution_count": 14,
     "metadata": {},
     "output_type": "execute_result"
    }
   ],
   "source": [
    "ss_a * dp**3 / 2"
   ]
  },
  {
   "cell_type": "code",
   "execution_count": 15,
   "metadata": {},
   "outputs": [
    {
     "data": {
      "text/plain": [
       "0.493485124784463"
      ]
     },
     "execution_count": 15,
     "metadata": {},
     "output_type": "execute_result"
    }
   ],
   "source": [
    "ss_a * (1/30)**3 / 2"
   ]
  },
  {
   "cell_type": "code",
   "execution_count": 16,
   "metadata": {},
   "outputs": [
    {
     "data": {
      "text/plain": [
       "True"
      ]
     },
     "execution_count": 16,
     "metadata": {},
     "output_type": "execute_result"
    }
   ],
   "source": [
    "# average kinetic energy per unit of mass at t=0 should be U0**2 / 2\n",
    "ss_b = sum(vx**2 + vy**2 + vz**2 for vx, vy, vz in zip(vel_x, vel_y, vel_z))\n",
    "ss_b == ss_a"
   ]
  },
  {
   "cell_type": "markdown",
   "metadata": {},
   "source": [
    "# Average kinetic energy per unit of mass from $(vx, vy, vz)_{t}$"
   ]
  },
  {
   "cell_type": "code",
   "execution_count": 22,
   "metadata": {},
   "outputs": [
    {
     "name": "stdout",
     "output_type": "stream",
     "text": [
      "0.493485124784463\n",
      "0.4931477465855741\n",
      "0.49330507601329615\n",
      "0.4930518849165842\n",
      "0.4931748818234558\n",
      "0.49289349813679034\n",
      "0.4930340811003168\n",
      "0.4926926454963132\n",
      "0.4927287404007317\n",
      "0.49240528934515126\n",
      "0.49222021032996915\n",
      "0.4919001113630272\n",
      "0.4917134700711129\n",
      "0.4912777768825789\n",
      "0.49105357495671453\n",
      "0.4905537335368495\n",
      "0.48989282744242185\n",
      "0.48918021022195124\n",
      "0.48826506957941723\n",
      "0.4874716302990594\n",
      "0.4869395804071736\n",
      "0.48661777366315206\n",
      "0.4862040562622135\n",
      "0.4861961578418051\n",
      "0.4861608994780786\n",
      "0.48585656146645323\n",
      "0.48457001831059876\n",
      "0.48506450122295414\n",
      "0.4852471732460146\n",
      "0.4845503878987413\n",
      "0.48427230873375937\n",
      "0.484905311943778\n",
      "0.4843947482244951\n",
      "0.4843533811401923\n",
      "0.48440029190213113\n",
      "0.48455535680963463\n",
      "0.4842079915735325\n",
      "0.48443316003080655\n",
      "0.48392370229960424\n",
      "0.4836353351852822\n",
      "0.48376165329823684\n",
      "0.48407586655509366\n",
      "0.48335830222249976\n",
      "0.483909738031741\n",
      "0.48340592932928\n",
      "0.4834852036437702\n",
      "0.4832003951490811\n",
      "0.48333277334355107\n",
      "0.48286602171537363\n",
      "0.48304953630123787\n",
      "0.48294199616604655\n",
      "0.48269677780902315\n",
      "0.4826814226795866\n",
      "0.48268558129721895\n",
      "0.48264412393364114\n",
      "0.48261228052008515\n",
      "0.482659276800976\n",
      "0.482047028752166\n",
      "0.4819802755606944\n",
      "0.4816710838510158\n",
      "0.48176608789922926\n",
      "0.48144622146837757\n",
      "0.4813552041401184\n",
      "0.48079159395346005\n",
      "0.48081314737645875\n",
      "0.4802239498756415\n",
      "0.480386875582259\n",
      "0.4802011819497528\n",
      "0.4801059785919612\n",
      "0.47979483424713093\n",
      "0.4794926349283446\n",
      "0.47927464719679025\n",
      "0.479671564680243\n",
      "0.47882827258515426\n",
      "0.47907802348811823\n",
      "0.4784363413933182\n",
      "0.47824365921249107\n",
      "0.4778765542998895\n",
      "0.47733861183927795\n",
      "0.4773564669314098\n",
      "0.4770067961180105\n",
      "0.47694100206862833\n",
      "0.47664280694633815\n",
      "0.47672682039188535\n",
      "0.4761842412031095\n",
      "0.47609140130189803\n",
      "0.4753166730146127\n",
      "0.4751306849172631\n",
      "0.4748724370441372\n",
      "0.47468722855930157\n",
      "0.4735943891880214\n",
      "0.4734818608176911\n",
      "0.4729389529795654\n",
      "0.47277512843920055\n",
      "0.4726509777396233\n",
      "0.4720079354826984\n",
      "0.47125283158490233\n",
      "0.47186776738550595\n",
      "0.4718609720454999\n",
      "0.4710135370174983\n",
      "0.47043328692515995\n",
      "0.4701983909270745\n",
      "0.46971157527704327\n",
      "0.46950453932959363\n",
      "0.4687794416343905\n",
      "0.46895835041428763\n",
      "0.4681130679291357\n",
      "0.46756057756108116\n",
      "0.4673976489394077\n",
      "0.4674355137413098\n",
      "0.4673063136554335\n",
      "0.46639011813781156\n",
      "0.4660554012365664\n",
      "0.46641485957492707\n",
      "0.46643658084611866\n",
      "0.46549333602796017\n",
      "0.46583225803975614\n",
      "0.46523445362001836\n",
      "0.4653014018226765\n",
      "0.464834250588057\n",
      "0.4643489107835927\n",
      "0.4638624211862573\n",
      "0.46418498999948615\n",
      "0.463797118827785\n",
      "0.4638178171941227\n",
      "0.4629549886118857\n",
      "0.4626387704724945\n",
      "0.4620221021577409\n",
      "0.4614970979226774\n",
      "0.46172792969737186\n",
      "0.4610690817866603\n",
      "0.46078070012271066\n",
      "0.4611538968883579\n",
      "0.46070496330631155\n",
      "0.46034124901150947\n",
      "0.4598809950683762\n",
      "0.45979299086634756\n",
      "0.45978087738556705\n",
      "0.46038801852501005\n",
      "0.45913422719102226\n",
      "0.45985285308402885\n",
      "0.45927816519699843\n",
      "0.45879633760961824\n",
      "0.4577514100193889\n",
      "0.4585953668798998\n",
      "0.458382253042003\n",
      "0.4583819799734976\n",
      "0.4578807966530608\n",
      "0.4576918478994131\n",
      "0.4575612735793807\n",
      "0.45744051119851054\n"
     ]
    }
   ],
   "source": [
    "last_step = 150\n",
    "for step in range(0, last_step+1):\n",
    "    infile = f'/Users/jgp/git/DUALSPH/DualSPHysics/DualSPHysics.git/test16/res/raw_2/PartAll_{step:04}.csv'\n",
    "    data = np.genfromtxt(infile, delimiter=';', skip_header=4)\n",
    "    # col[0,1,2] = x,y,z\n",
    "    # col[3] = idp\n",
    "    vel_x = data[:, 4]\n",
    "    vel_y = data[:, 5]\n",
    "    vel_z = data[:, 6]\n",
    "    ss = sum(vx**2 + vy**2 + vz**2 for vx, vy, vz in zip(vel_x, vel_y, vel_z))\n",
    "    print(ss * (1/30)**3 / 2)"
   ]
  },
  {
   "cell_type": "markdown",
   "metadata": {},
   "source": [
    "# Average kinetic energy per unit of mass from $(x, y, z)_{t0}$\n",
    "$\\epsilon$ = U0**2 / 2 at t=0"
   ]
  },
  {
   "cell_type": "code",
   "execution_count": 40,
   "metadata": {},
   "outputs": [
    {
     "name": "stdout",
     "output_type": "stream",
     "text": [
      "0.000000000000, 0.000000000000, 0.000000000000\n",
      "0.95700002, 0.95700002, 0.95700002\n"
     ]
    }
   ],
   "source": [
    "print(f\"{min(pos_x):.12f}, {min(pos_y):.12f}, {min(pos_z):.12f}\" )\n",
    "print(f\"{max(pos_x)}, {max(pos_y)}, {max(pos_z)}\" )"
   ]
  },
  {
   "cell_type": "code",
   "execution_count": 41,
   "metadata": {},
   "outputs": [],
   "source": [
    "vel_x_from_pos = []\n",
    "vel_y_from_pos = []\n",
    "vel_z_from_pos = []\n",
    "for ii in range(len(pos_x)):\n",
    "    kx = k * pos_x[ii]\n",
    "    ky = k * pos_y[ii]\n",
    "    kz = k * pos_z[ii]\n",
    "    #\n",
    "    vel_x_from_pos.append(\n",
    "        A * (\n",
    "            m.sin(kx-p3) * m.cos(ky+p3) * m.sin(kz+p2) -\n",
    "            m.cos(kz-p3) * m.sin(kx+p3) * m.sin(ky+p2)\n",
    "        )\n",
    "    )\n",
    "    #\n",
    "    vel_y_from_pos.append(\n",
    "        A * (\n",
    "            m.sin(ky-p3) * m.cos(kz+p3) * m.sin(kx+p2) -\n",
    "            m.cos(kx-p3) * m.sin(ky+p3) * m.sin(kz+p2)\n",
    "        )\n",
    "    )\n",
    "    #\n",
    "    vel_z_from_pos.append(\n",
    "        A * (\n",
    "            m.sin(kz-p3) * m.cos(kx+p3) * m.sin(ky+p2) -\n",
    "            m.cos(ky-p3) * m.sin(kz+p3) * m.sin(kx+p2)\n",
    "        )\n",
    "    )    "
   ]
  },
  {
   "cell_type": "code",
   "execution_count": 42,
   "metadata": {},
   "outputs": [
    {
     "data": {
      "text/plain": [
       "13324.096777900571"
      ]
     },
     "execution_count": 42,
     "metadata": {},
     "output_type": "execute_result"
    }
   ],
   "source": [
    "ss_c = sum(vx**2 + vy**2 + vz**2 for vx, vy, vz in zip(vel_x_from_pos, vel_y_from_pos, vel_z_from_pos))\n",
    "ss_c/2"
   ]
  },
  {
   "cell_type": "code",
   "execution_count": 43,
   "metadata": {},
   "outputs": [
    {
     "data": {
      "text/plain": [
       "True"
      ]
     },
     "execution_count": 43,
     "metadata": {},
     "output_type": "execute_result"
    }
   ],
   "source": [
    "ss_a - ss_c < 0.005"
   ]
  },
  {
   "cell_type": "markdown",
   "metadata": {},
   "source": [
    "# Round off"
   ]
  },
  {
   "cell_type": "code",
   "execution_count": 18,
   "metadata": {},
   "outputs": [
    {
     "data": {
      "text/plain": [
       "array([False, False, False, ..., False, False, False])"
      ]
     },
     "execution_count": 18,
     "metadata": {},
     "output_type": "execute_result"
    }
   ],
   "source": [
    "vel_x_from_pos == vel_x"
   ]
  },
  {
   "cell_type": "code",
   "execution_count": 24,
   "metadata": {},
   "outputs": [
    {
     "name": "stdout",
     "output_type": "stream",
     "text": [
      "[-0.9428090415820636, -1.0907010407190776, -1.1918693799691533]\n",
      "[-0.94280905 -1.0907011  -1.1918694 ]\n"
     ]
    },
    {
     "data": {
      "text/plain": [
       "[-0.942809, -1.090701, -1.191869]"
      ]
     },
     "execution_count": 24,
     "metadata": {},
     "output_type": "execute_result"
    }
   ],
   "source": [
    "print(vel_x_from_pos[0:3])\n",
    "print(vel_x[0:3])\n",
    "#\n",
    "[ round(xx, 6) for xx in vel_x_from_pos[0:3] ]"
   ]
  }
 ],
 "metadata": {
  "kernelspec": {
   "display_name": "Python 3",
   "language": "python",
   "name": "python3"
  },
  "language_info": {
   "codemirror_mode": {
    "name": "ipython",
    "version": 3
   },
   "file_extension": ".py",
   "mimetype": "text/x-python",
   "name": "python",
   "nbconvert_exporter": "python",
   "pygments_lexer": "ipython3",
   "version": "3.11.7"
  }
 },
 "nbformat": 4,
 "nbformat_minor": 2
}
